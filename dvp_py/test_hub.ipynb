{
 "cells": [
  {
   "cell_type": "code",
   "execution_count": 1,
   "metadata": {},
   "outputs": [],
   "source": [
    "from hub.hub import hub_update\n",
    "from creds import PATH, POSTGRESQL_CONN_STRING"
   ]
  },
  {
   "cell_type": "code",
   "execution_count": 2,
   "metadata": {},
   "outputs": [],
   "source": [
    "with open(f\"{PATH}/sql/hub_course.sql\", 'r') as sql_file:\n",
    "    hub_raw_query = sql_file.read()"
   ]
  },
  {
   "cell_type": "code",
   "execution_count": 3,
   "metadata": {},
   "outputs": [],
   "source": [
    "kwargs_payload = {\n",
    "    \"hub_schema\": \"raw_vault\",\n",
    "    \"hub_table\": \"hub_course\",\n",
    "    \"hub_raw_query\": hub_raw_query,\n",
    "    \"hub_conn_str\": POSTGRESQL_CONN_STRING\n",
    "}"
   ]
  },
  {
   "cell_type": "code",
   "execution_count": 4,
   "metadata": {},
   "outputs": [
    {
     "name": "stdout",
     "output_type": "stream",
     "text": [
      "hub_update → START\n",
      "update → NO DATA\n",
      "hub_update → END\n"
     ]
    }
   ],
   "source": [
    "hub_update(**kwargs_payload)"
   ]
  },
  {
   "cell_type": "code",
   "execution_count": null,
   "metadata": {},
   "outputs": [],
   "source": []
  }
 ],
 "metadata": {
  "kernelspec": {
   "display_name": "venv",
   "language": "python",
   "name": "python3"
  },
  "language_info": {
   "codemirror_mode": {
    "name": "ipython",
    "version": 3
   },
   "file_extension": ".py",
   "mimetype": "text/x-python",
   "name": "python",
   "nbconvert_exporter": "python",
   "pygments_lexer": "ipython3",
   "version": "3.12.0"
  }
 },
 "nbformat": 4,
 "nbformat_minor": 2
}
