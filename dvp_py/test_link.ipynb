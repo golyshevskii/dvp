{
 "cells": [
  {
   "cell_type": "code",
   "execution_count": 1,
   "metadata": {},
   "outputs": [],
   "source": [
    "from link.link import link_update\n",
    "from creds import PATH, POSTGRESQL_CONN_STRING"
   ]
  },
  {
   "cell_type": "code",
   "execution_count": 2,
   "metadata": {},
   "outputs": [],
   "source": [
    "with open(f\"{PATH}/sql/link/link_course_line.sql\", 'r') as sql_file:\n",
    "    link_raw_query = sql_file.read()"
   ]
  },
  {
   "cell_type": "code",
   "execution_count": 3,
   "metadata": {},
   "outputs": [],
   "source": [
    "kwargs_payload = {\n",
    "    \"link_schema\": \"raw_vault\",\n",
    "    \"link_table\": \"link_course_line\",\n",
    "    \"link_raw_query\": link_raw_query,\n",
    "    \"link_conn_str\": POSTGRESQL_CONN_STRING\n",
    "}"
   ]
  },
  {
   "cell_type": "code",
   "execution_count": 4,
   "metadata": {},
   "outputs": [
    {
     "name": "stdout",
     "output_type": "stream",
     "text": [
      "link_update → START\n",
      "update → NO DATA\n",
      "link_update → END\n"
     ]
    }
   ],
   "source": [
    "link_update(**kwargs_payload)"
   ]
  }
 ],
 "metadata": {
  "kernelspec": {
   "display_name": "venv",
   "language": "python",
   "name": "python3"
  },
  "language_info": {
   "codemirror_mode": {
    "name": "ipython",
    "version": 3
   },
   "file_extension": ".py",
   "mimetype": "text/x-python",
   "name": "python",
   "nbconvert_exporter": "python",
   "pygments_lexer": "ipython3",
   "version": "3.12.0"
  }
 },
 "nbformat": 4,
 "nbformat_minor": 2
}
