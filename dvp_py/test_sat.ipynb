{
 "cells": [
  {
   "cell_type": "code",
   "execution_count": 1,
   "metadata": {},
   "outputs": [],
   "source": [
    "from sat.sat import sat_update\n",
    "from creds import PATH, POSTGRESQL_CONN_STRING"
   ]
  },
  {
   "cell_type": "code",
   "execution_count": 2,
   "metadata": {},
   "outputs": [],
   "source": [
    "with open(f\"{PATH}/sql/sat/sat_course.sql\", 'r') as sql_file:\n",
    "    sat_raw_query = sql_file.read()"
   ]
  },
  {
   "cell_type": "code",
   "execution_count": 5,
   "metadata": {},
   "outputs": [],
   "source": [
    "kwargs_payload = {\n",
    "    \"sat_schema\": \"raw_vault\",\n",
    "    \"sat_table\": \"sat_course\",\n",
    "    \"sat_raw_query\": sat_raw_query,\n",
    "    \"sat_conn_str\": POSTGRESQL_CONN_STRING\n",
    "}"
   ]
  },
  {
   "cell_type": "code",
   "execution_count": 6,
   "metadata": {},
   "outputs": [
    {
     "name": "stdout",
     "output_type": "stream",
     "text": [
      "sat_update → START\n",
      "update → NO DATA\n",
      "sat_update → END\n"
     ]
    }
   ],
   "source": [
    "sat_update(**kwargs_payload)"
   ]
  },
  {
   "cell_type": "code",
   "execution_count": null,
   "metadata": {},
   "outputs": [],
   "source": []
  }
 ],
 "metadata": {
  "kernelspec": {
   "display_name": "venv",
   "language": "python",
   "name": "python3"
  },
  "language_info": {
   "codemirror_mode": {
    "name": "ipython",
    "version": 3
   },
   "file_extension": ".py",
   "mimetype": "text/x-python",
   "name": "python",
   "nbconvert_exporter": "python",
   "pygments_lexer": "ipython3",
   "version": "3.12.0"
  }
 },
 "nbformat": 4,
 "nbformat_minor": 2
}
